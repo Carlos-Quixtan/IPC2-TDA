{
  "nbformat": 4,
  "nbformat_minor": 0,
  "metadata": {
    "colab": {
      "name": "Copia de TDA.ipynb",
      "provenance": [],
      "collapsed_sections": [],
      "authorship_tag": "ABX9TyOLyQ2ntdNd/qVnZFHjsbeS",
      "include_colab_link": true
    },
    "kernelspec": {
      "name": "python3",
      "display_name": "Python 3"
    }
  },
  "cells": [
    {
      "cell_type": "markdown",
      "metadata": {
        "id": "view-in-github",
        "colab_type": "text"
      },
      "source": [
        "<a href=\"https://colab.research.google.com/github/Carlos-Quixtan/IPC2-TDA/blob/main/Copia_de_TDA.ipynb\" target=\"_parent\"><img src=\"https://colab.research.google.com/assets/colab-badge.svg\" alt=\"Open In Colab\"/></a>"
      ]
    },
    {
      "cell_type": "markdown",
      "metadata": {
        "id": "xCyVZKn-c0vY"
      },
      "source": [
        "**Ejercicios de listas enlazadas**\r\n"
      ]
    },
    {
      "cell_type": "code",
      "metadata": {
        "id": "vWFrGqYueF5G"
      },
      "source": [
        "class cliente:\r\n",
        "  def __init__(self,nombre,no_habitacion): #con self le digo que esta funcion pertenece a la clase cliente\r\n",
        "    self.nombre=nombre   # con esto indico que la clase cliente tiene que tener un nombre y que este valor es el que se le pasa por parametro\r\n",
        "    self.no_habitacion=no_habitacion "
      ],
      "execution_count": 15,
      "outputs": []
    },
    {
      "cell_type": "code",
      "metadata": {
        "id": "7q8xyUmbWBHH"
      },
      "source": [
        "class node: \r\n",
        "  def __init__(self, cliente=None, next=None): #les coloco none por dado caso no se le pase nada no tire error\r\n",
        "    self.cliente=cliente\r\n",
        "    self.next=next"
      ],
      "execution_count": 16,
      "outputs": []
    },
    {
      "cell_type": "code",
      "metadata": {
        "id": "qGqiuY_0YFVq"
      },
      "source": [
        "class linked_list:  #= lista enlazada (para indicar que me apunte al vacio la primera estructura) \r\n",
        "  def __init__(self):\r\n",
        "    self.head = None\r\n",
        "\r\n",
        "  def insertar(self, cliente): #para insertar un cliente a la lista le paso como parametro la clase cliente\r\n",
        "    if not self.head: # sino hay ninguna cabecera\r\n",
        "      self.head = node(cliente=cliente) #al node solo le paso como parametro el cliente, el next no lo paso porque apunta al vacio \r\n",
        "      return\r\n",
        "    current = self.head #current = actual ----- con esto digo que si ya hay cabecera la guarde\r\n",
        "    while current.next:# para recorrer la lista y saber quien esta en el final de la lista para insertar otro valor\r\n",
        "      current=current.next\r\n",
        "    current.next = node(cliente=cliente) # con esto agrego el nuevo valor (ya current esta en el final)  \r\n",
        "\r\n",
        "\r\n",
        "  def imprimir(self): # para recorrer la lista y saber que elementos tiene\r\n",
        "    node = self.head\r\n",
        "    while node != None:\r\n",
        "      print(node.cliente.nombre, end=\"=>\")  # con esto le digo que nodo vaya a cliente y de cliente me muestre el atributo nombre\r\n",
        "      node=node.next\r\n",
        "\r\n",
        "  def eliminar(self, no_habitacion):\r\n",
        "    current = self.head\r\n",
        "    previous = None\r\n",
        "\r\n",
        "    while current and current.cliente.no_habitacion != no_habitacion: # si tengo cabecera y la habitacion no coincide con las habitaciones\r\n",
        "      previous = current\r\n",
        "      current = current.next\r\n",
        "\r\n",
        "    if previous is None:\r\n",
        "      self.head = current.next\r\n",
        "    elif current:\r\n",
        "      previous.next=current.next\r\n",
        "      current.next = None\r\n"
      ],
      "execution_count": 17,
      "outputs": []
    },
    {
      "cell_type": "code",
      "metadata": {
        "id": "cYvr1eHhkr0K"
      },
      "source": [
        ""
      ],
      "execution_count": null,
      "outputs": []
    },
    {
      "cell_type": "code",
      "metadata": {
        "id": "SiiMAGxsc92W"
      },
      "source": [
        "c1 = cliente(\"carlos quixtan\", 101) # creo un objeto de la clase cliente \r\n",
        "c2 = cliente(\"marco lopez\", 103)\r\n",
        "c3 = cliente(\"josue armas\", 204)\r\n",
        "c4 = cliente(\"gladys olmos\", 302)"
      ],
      "execution_count": 31,
      "outputs": []
    },
    {
      "cell_type": "code",
      "metadata": {
        "id": "snvVudgadXF9"
      },
      "source": [
        "lista = linked_list()\r\n",
        "lista.insertar(c1)\r\n",
        "lista.insertar(c2)\r\n",
        "lista.insertar(c3)\r\n",
        "lista.insertar(c4)"
      ],
      "execution_count": 32,
      "outputs": []
    },
    {
      "cell_type": "code",
      "metadata": {
        "colab": {
          "base_uri": "https://localhost:8080/"
        },
        "id": "_MjP1ZudgMTz",
        "outputId": "5441ecd6-79b7-4246-9a78-9edaa82451c1"
      },
      "source": [
        "lista.imprimir()"
      ],
      "execution_count": 20,
      "outputs": [
        {
          "output_type": "stream",
          "text": [
            "carlos quixtan=>marco lopez=>josue armas=>gladys olmos=>"
          ],
          "name": "stdout"
        }
      ]
    },
    {
      "cell_type": "code",
      "metadata": {
        "id": "SVD_cMJAkwPk"
      },
      "source": [
        "lista.eliminar(204)"
      ],
      "execution_count": null,
      "outputs": []
    },
    {
      "cell_type": "code",
      "metadata": {
        "colab": {
          "base_uri": "https://localhost:8080/"
        },
        "id": "z0XPpMFbk4B5",
        "outputId": "6ad6b1b0-cb34-4d5a-db91-b872176cfbf8"
      },
      "source": [
        "lista.imprimir()"
      ],
      "execution_count": null,
      "outputs": [
        {
          "output_type": "stream",
          "text": [
            "carlos quixtan=>marco lopez=>gladys olmos=>"
          ],
          "name": "stdout"
        }
      ]
    },
    {
      "cell_type": "markdown",
      "metadata": {
        "id": "nXCOYFlnoSpi"
      },
      "source": [
        "**Ejercicio de Listas Circulares**"
      ]
    },
    {
      "cell_type": "code",
      "metadata": {
        "id": "JpOKWIPpoYtq"
      },
      "source": [
        "class linked_list_circular:\r\n",
        "  def __init__(self, head=None):\r\n",
        "    self.head = head   # si solo tiene un elemnto, la cabecera va ser tambien el final\r\n",
        "    self.size = 0\r\n",
        "\r\n",
        "\r\n",
        "  def insertar (self, cliente):\r\n",
        "    if  self.size == 0:  # sino hay nada el la cabecera\r\n",
        "      self.head = node(cliente=cliente)\r\n",
        "      self.head.next = self.head # la cabecera apunta a cabecera \r\n",
        "    else:  # si ya hay mas de un elemento lo paso al siguiente\r\n",
        "      new_node = node(cliente=cliente, next=self.head.next)\r\n",
        "      self.head.next = new_node # el apuntador de la cabacera va hacia el nuevo nodo\r\n",
        "    self.size += 1\r\n",
        "\r\n",
        "  def inprimir (self):\r\n",
        "    if self.head is None:   # si solo hay un elemnto entonces que si recorra\r\n",
        "      return\r\n",
        "    node = self.head\r\n",
        "    print(node.cliente.nombre, end = \" => \")\r\n",
        "    while node.next != self.head: # si ya no hay solo un elemnto entonces si recorrro todo\r\n",
        "      node = node.next\r\n",
        "      print(node.cliente.nombre, end=\" => \")\r\n",
        "\r\n",
        "  def eliminar (self, no_habitacion):\r\n",
        "    node = self.head\r\n",
        "    previous = None\r\n",
        "\r\n",
        "    while True:\r\n",
        "      if node.cliente.no_habitacion == no_habitacion:  # si la habitacion se encuentra en la cabecera\r\n",
        "        if previous is not None: # si el anterior no esta vacio\r\n",
        "          previous.next = node.next\r\n",
        "        else:\r\n",
        "          while node.next != self.head: #mientras siguiente de nodo es diferente de cabecera\r\n",
        "            node = node.next # nodo obtiene el valor siguiente \r\n",
        "          node.next = self.head.next #el siguiente de nodo ahora sera el siguiente de cabecera\r\n",
        "          self.head = self.head.next #la cabecera ahora sera el siguiente de la cabecera \r\n",
        "        self.size -= 1\r\n",
        "        return True \r\n",
        "      elif node.next == self.head: # si el siguiente del nodo es igual a la cabecera no elimina\r\n",
        "        return False\r\n",
        "\r\n",
        "      previous = node\r\n",
        "      node = node.next # al nodo le asigno el siguiente nodo\r\n"
      ],
      "execution_count": 33,
      "outputs": []
    },
    {
      "cell_type": "code",
      "metadata": {
        "id": "VKsASmg4ROLw"
      },
      "source": [
        "lista_c = linked_list_circular()   # esto se inseta al final\r\n",
        "lista_c.insertar(c1)\r\n",
        "lista_c.insertar(c2)\r\n",
        "lista_c.insertar(c3)\r\n",
        "lista_c.insertar(c4)"
      ],
      "execution_count": 34,
      "outputs": []
    },
    {
      "cell_type": "code",
      "metadata": {
        "colab": {
          "base_uri": "https://localhost:8080/"
        },
        "id": "Pew9zjgqWYIM",
        "outputId": "16795440-5883-43ef-e2f1-8f415e11670b"
      },
      "source": [
        "lista_c.inprimir()"
      ],
      "execution_count": 35,
      "outputs": [
        {
          "output_type": "stream",
          "text": [
            "carlos quixtan => gladys olmos => josue armas => marco lopez => "
          ],
          "name": "stdout"
        }
      ]
    },
    {
      "cell_type": "code",
      "metadata": {
        "colab": {
          "base_uri": "https://localhost:8080/"
        },
        "id": "n3Rt_FBBebil",
        "outputId": "581de965-315a-4295-9734-6d494b2f6530"
      },
      "source": [
        "lista_c.eliminar(101)"
      ],
      "execution_count": 36,
      "outputs": [
        {
          "output_type": "execute_result",
          "data": {
            "text/plain": [
              "True"
            ]
          },
          "metadata": {
            "tags": []
          },
          "execution_count": 36
        }
      ]
    },
    {
      "cell_type": "code",
      "metadata": {
        "colab": {
          "base_uri": "https://localhost:8080/"
        },
        "id": "Kto7SeACfRcB",
        "outputId": "f7451625-988d-4c27-863c-baecbf585f55"
      },
      "source": [
        "lista_c.inprimir()"
      ],
      "execution_count": 38,
      "outputs": [
        {
          "output_type": "stream",
          "text": [
            "gladys olmos => josue armas => marco lopez => "
          ],
          "name": "stdout"
        }
      ]
    },
    {
      "cell_type": "code",
      "metadata": {
        "colab": {
          "base_uri": "https://localhost:8080/"
        },
        "id": "pfq9QpnDhLtu",
        "outputId": "1adb8842-4075-4d4d-d545-0facfc2483fd"
      },
      "source": [
        "lista_c.eliminar(103)"
      ],
      "execution_count": 39,
      "outputs": [
        {
          "output_type": "execute_result",
          "data": {
            "text/plain": [
              "True"
            ]
          },
          "metadata": {
            "tags": []
          },
          "execution_count": 39
        }
      ]
    },
    {
      "cell_type": "code",
      "metadata": {
        "colab": {
          "base_uri": "https://localhost:8080/"
        },
        "id": "L63BA0SUhPpW",
        "outputId": "92e49738-cb63-4943-b01f-509b1db32ea9"
      },
      "source": [
        "lista_c.inprimir()"
      ],
      "execution_count": 40,
      "outputs": [
        {
          "output_type": "stream",
          "text": [
            "gladys olmos => josue armas => "
          ],
          "name": "stdout"
        }
      ]
    },
    {
      "cell_type": "markdown",
      "metadata": {
        "id": "LjmCAwHFjCSE"
      },
      "source": [
        "###**Listas doblemente enlazadas**"
      ]
    },
    {
      "cell_type": "code",
      "metadata": {
        "id": "CNmwFr8ojKZk"
      },
      "source": [
        "class node_de:\r\n",
        "  def __init__(self, cliente=node, next=None, previous=None):\r\n",
        "    self.cliente = cliente\r\n",
        "    self.previous = previous\r\n",
        "    self.next = next"
      ],
      "execution_count": null,
      "outputs": []
    }
  ]
}