{
  "nbformat": 4,
  "nbformat_minor": 0,
  "metadata": {
    "colab": {
      "name": "Copia de TDA.ipynb",
      "provenance": [],
      "collapsed_sections": [],
      "authorship_tag": "ABX9TyMujJJDXVi1aRD6gGaQ9OEp",
      "include_colab_link": true
    },
    "kernelspec": {
      "name": "python3",
      "display_name": "Python 3"
    }
  },
  "cells": [
    {
      "cell_type": "markdown",
      "metadata": {
        "id": "view-in-github",
        "colab_type": "text"
      },
      "source": [
        "<a href=\"https://colab.research.google.com/github/Carlos-Quixtan/IPC2-TDA/blob/main/Copia_de_TDA.ipynb\" target=\"_parent\"><img src=\"https://colab.research.google.com/assets/colab-badge.svg\" alt=\"Open In Colab\"/></a>"
      ]
    },
    {
      "cell_type": "markdown",
      "metadata": {
        "id": "xCyVZKn-c0vY"
      },
      "source": [
        "**Ejercicios de listas enlazadas**\r\n"
      ]
    },
    {
      "cell_type": "code",
      "metadata": {
        "id": "vWFrGqYueF5G"
      },
      "source": [
        "class cliente:\r\n",
        "  def __init__(self,nombre,no_habitacion): #con self le digo que esta funcion pertenece a la clase cliente\r\n",
        "    self.nombre=nombre   # con esto indico que la clase cliente tiene que tener un nombre y que este valor es el que se le pasa por parametro\r\n",
        "    self.no_habitacion=no_habitacion "
      ],
      "execution_count": 79,
      "outputs": []
    },
    {
      "cell_type": "code",
      "metadata": {
        "id": "7q8xyUmbWBHH"
      },
      "source": [
        "class node: \r\n",
        "  def __init__(self, cliente=None, next=None): #les coloco none por dado caso no se le pase nada no tire error\r\n",
        "    self.cliente=cliente\r\n",
        "    self.next=next"
      ],
      "execution_count": 80,
      "outputs": []
    },
    {
      "cell_type": "code",
      "metadata": {
        "id": "qGqiuY_0YFVq"
      },
      "source": [
        "class linked_list:  #= lista enlazada (para indicar que me apunte al vacio la primera estructura) \r\n",
        "  def __init__(self):\r\n",
        "    self.head = None\r\n",
        "\r\n",
        "  def insertar(self, cliente): #para insertar un cliente a la lista le paso como parametro la clase cliente\r\n",
        "    if not self.head: # sino hay ninguna cabecera\r\n",
        "      self.head = node(cliente=cliente) #al node solo le paso como parametro el cliente, el next no lo paso porque apunta al vacio \r\n",
        "      return\r\n",
        "    current = self.head #current = actual ----- con esto digo que si ya hay cabecera la guarde\r\n",
        "    while current.next:# para recorrer la lista y saber quien esta en el final de la lista para insertar otro valor\r\n",
        "      current=current.next\r\n",
        "    current.next = node(cliente=cliente) # con esto agrego el nuevo valor (ya current esta en el final)  \r\n",
        "\r\n",
        "\r\n",
        "  def imprimir(self): # para recorrer la lista y saber que elementos tiene\r\n",
        "    node = self.head\r\n",
        "    while node != None:\r\n",
        "      print(node.cliente.nombre, end=\"=>\")  # con esto le digo que nodo vaya a cliente y de cliente me muestre el atributo nombre\r\n",
        "      node=node.next\r\n",
        "\r\n",
        "  def eliminar(self, no_habitacion):\r\n",
        "    current = self.head\r\n",
        "    previous = None\r\n",
        "\r\n",
        "    while current and current.cliente.no_habitacion != no_habitacion: # si tengo cabecera y la habitacion no coincide con las habitaciones\r\n",
        "      previous = current\r\n",
        "      current = current.next\r\n",
        "\r\n",
        "    if previous is None:\r\n",
        "      self.head = current.next\r\n",
        "    elif current:\r\n",
        "      previous.next=current.next\r\n",
        "      current.next = None\r\n"
      ],
      "execution_count": 81,
      "outputs": []
    },
    {
      "cell_type": "code",
      "metadata": {
        "id": "cYvr1eHhkr0K"
      },
      "source": [
        ""
      ],
      "execution_count": null,
      "outputs": []
    },
    {
      "cell_type": "code",
      "metadata": {
        "id": "SiiMAGxsc92W"
      },
      "source": [
        "c1 = cliente(\"carlos quixtan\", 101) # creo un objeto de la clase cliente \r\n",
        "c2 = cliente(\"marco lopez\", 103)\r\n",
        "c3 = cliente(\"josue armas\", 204)\r\n",
        "c4 = cliente(\"gladys olmos\", 302)"
      ],
      "execution_count": 82,
      "outputs": []
    },
    {
      "cell_type": "code",
      "metadata": {
        "id": "snvVudgadXF9"
      },
      "source": [
        "lista = linked_list()\r\n",
        "lista.insertar(c1)\r\n",
        "lista.insertar(c2)\r\n",
        "lista.insertar(c3)\r\n",
        "lista.insertar(c4)"
      ],
      "execution_count": 83,
      "outputs": []
    },
    {
      "cell_type": "code",
      "metadata": {
        "colab": {
          "base_uri": "https://localhost:8080/"
        },
        "id": "_MjP1ZudgMTz",
        "outputId": "3946712b-0d1a-45c5-cead-5b820072d979"
      },
      "source": [
        "lista.imprimir()"
      ],
      "execution_count": 7,
      "outputs": [
        {
          "output_type": "stream",
          "text": [
            "carlos quixtan=>marco lopez=>josue armas=>gladys olmos=>"
          ],
          "name": "stdout"
        }
      ]
    },
    {
      "cell_type": "code",
      "metadata": {
        "id": "SVD_cMJAkwPk"
      },
      "source": [
        "lista.eliminar(204)"
      ],
      "execution_count": null,
      "outputs": []
    },
    {
      "cell_type": "code",
      "metadata": {
        "colab": {
          "base_uri": "https://localhost:8080/"
        },
        "id": "z0XPpMFbk4B5",
        "outputId": "6ad6b1b0-cb34-4d5a-db91-b872176cfbf8"
      },
      "source": [
        "lista.imprimir()"
      ],
      "execution_count": null,
      "outputs": [
        {
          "output_type": "stream",
          "text": [
            "carlos quixtan=>marco lopez=>gladys olmos=>"
          ],
          "name": "stdout"
        }
      ]
    },
    {
      "cell_type": "markdown",
      "metadata": {
        "id": "nXCOYFlnoSpi"
      },
      "source": [
        "**Ejercicio de Listas Circulares**"
      ]
    },
    {
      "cell_type": "code",
      "metadata": {
        "id": "JpOKWIPpoYtq"
      },
      "source": [
        "class linked_list_circular:\r\n",
        "  def __init__(self, head=None):\r\n",
        "    self.head = head   # si solo tiene un elemnto, la cabecera va ser tambien el final\r\n",
        "    self.size = 0\r\n",
        "\r\n",
        "\r\n",
        "  def insertar (self, cliente):\r\n",
        "    if  self.size == 0:  # sino hay nada el la cabecera\r\n",
        "      self.head = node(cliente=cliente)\r\n",
        "      self.head.next = self.head # la cabecera apunta a cabecera \r\n",
        "    else:  # si ya hay mas de un elemento lo paso al siguiente\r\n",
        "      new_node = node(cliente=cliente, next=self.head.next)\r\n",
        "      self.head.next = new_node # el apuntador de la cabacera va hacia el nuevo nodo\r\n",
        "    self.size += 1\r\n",
        "\r\n",
        "  def inprimir (self):\r\n",
        "    if self.head is None:   # si solo hay un elemnto entonces que si recorra\r\n",
        "      return\r\n",
        "    node = self.head\r\n",
        "    print(node.cliente.nombre, end = \" => \")\r\n",
        "    while node.next != self.head: # si ya no hay solo un elemnto entonces si recorrro todo\r\n",
        "      node = node.next\r\n",
        "      print(node.cliente.nombre, end=\" => \")\r\n",
        "\r\n",
        "  def eliminar (self, no_habitacion):\r\n",
        "    node = self.head\r\n",
        "    previous = None\r\n",
        "\r\n",
        "    while True:\r\n",
        "      if node.cliente.no_habitacion == no_habitacion:  # si la habitacion se encuentra en la cabecera\r\n",
        "        if previous is not None: # si el anterior no esta vacio\r\n",
        "          previous.next = node.next\r\n",
        "        else:\r\n",
        "          while node.next != self.head: #mientras siguiente de nodo es diferente de cabecera\r\n",
        "            node = node.next # nodo obtiene el valor siguiente \r\n",
        "          node.next = self.head.next #el siguiente de nodo ahora sera el siguiente de cabecera\r\n",
        "          self.head = self.head.next #la cabecera ahora sera el siguiente de la cabecera \r\n",
        "        self.size -= 1\r\n",
        "        return True \r\n",
        "      elif node.next == self.head: # si el siguiente del nodo es igual a la cabecera no elimina\r\n",
        "        return False\r\n",
        "\r\n",
        "      previous = node\r\n",
        "      node = node.next # al nodo le asigno el siguiente nodo\r\n"
      ],
      "execution_count": 84,
      "outputs": []
    },
    {
      "cell_type": "code",
      "metadata": {
        "id": "VKsASmg4ROLw"
      },
      "source": [
        "lista_c = linked_list_circular()   # esto se inseta al final\r\n",
        "lista_c.insertar(c1)\r\n",
        "lista_c.insertar(c2)\r\n",
        "lista_c.insertar(c3)\r\n",
        "lista_c.insertar(c4)"
      ],
      "execution_count": 85,
      "outputs": []
    },
    {
      "cell_type": "code",
      "metadata": {
        "colab": {
          "base_uri": "https://localhost:8080/"
        },
        "id": "Pew9zjgqWYIM",
        "outputId": "b1a913da-b581-4090-c34b-177a757531d7"
      },
      "source": [
        "lista_c.inprimir()"
      ],
      "execution_count": 86,
      "outputs": [
        {
          "output_type": "stream",
          "text": [
            "carlos quixtan => gladys olmos => josue armas => marco lopez => "
          ],
          "name": "stdout"
        }
      ]
    },
    {
      "cell_type": "code",
      "metadata": {
        "colab": {
          "base_uri": "https://localhost:8080/"
        },
        "id": "n3Rt_FBBebil",
        "outputId": "581de965-315a-4295-9734-6d494b2f6530"
      },
      "source": [
        "lista_c.eliminar(101)"
      ],
      "execution_count": null,
      "outputs": [
        {
          "output_type": "execute_result",
          "data": {
            "text/plain": [
              "True"
            ]
          },
          "metadata": {
            "tags": []
          },
          "execution_count": 36
        }
      ]
    },
    {
      "cell_type": "code",
      "metadata": {
        "colab": {
          "base_uri": "https://localhost:8080/"
        },
        "id": "Kto7SeACfRcB",
        "outputId": "f7451625-988d-4c27-863c-baecbf585f55"
      },
      "source": [
        "lista_c.inprimir()"
      ],
      "execution_count": null,
      "outputs": [
        {
          "output_type": "stream",
          "text": [
            "gladys olmos => josue armas => marco lopez => "
          ],
          "name": "stdout"
        }
      ]
    },
    {
      "cell_type": "code",
      "metadata": {
        "colab": {
          "base_uri": "https://localhost:8080/"
        },
        "id": "pfq9QpnDhLtu",
        "outputId": "1adb8842-4075-4d4d-d545-0facfc2483fd"
      },
      "source": [
        "lista_c.eliminar(103)"
      ],
      "execution_count": null,
      "outputs": [
        {
          "output_type": "execute_result",
          "data": {
            "text/plain": [
              "True"
            ]
          },
          "metadata": {
            "tags": []
          },
          "execution_count": 39
        }
      ]
    },
    {
      "cell_type": "code",
      "metadata": {
        "colab": {
          "base_uri": "https://localhost:8080/"
        },
        "id": "L63BA0SUhPpW",
        "outputId": "92e49738-cb63-4943-b01f-509b1db32ea9"
      },
      "source": [
        "lista_c.inprimir()"
      ],
      "execution_count": null,
      "outputs": [
        {
          "output_type": "stream",
          "text": [
            "gladys olmos => josue armas => "
          ],
          "name": "stdout"
        }
      ]
    },
    {
      "cell_type": "markdown",
      "metadata": {
        "id": "LjmCAwHFjCSE"
      },
      "source": [
        "###**Listas doblemente enlazadas**"
      ]
    },
    {
      "cell_type": "code",
      "metadata": {
        "id": "CNmwFr8ojKZk"
      },
      "source": [
        "class node_de:\r\n",
        "  def __init__(self, cliente=None, next=None, previous=None):\r\n",
        "    self.cliente = cliente\r\n",
        "    self.previous = previous\r\n",
        "    self.next = next"
      ],
      "execution_count": 87,
      "outputs": []
    },
    {
      "cell_type": "code",
      "metadata": {
        "id": "4WoR4wOrahBR"
      },
      "source": [
        "class linked_list_de:\r\n",
        "  def __init__(self, head=None):\r\n",
        "    self.head = head\r\n",
        "    self.last = head\r\n",
        "    self.size = 0\r\n",
        "\r\n",
        "  def insertar(self, cliente):\r\n",
        "    if self.size == 0:\r\n",
        "      self.head = node_de(cliente=cliente)\r\n",
        "      self.last = self.head\r\n",
        "    else:\r\n",
        "      new_node = node_de(cliente=cliente, next= self.head)\r\n",
        "      self.head.previous = new_node\r\n",
        "      self.head = new_node\r\n",
        "    self.size += 1\r\n",
        "\r\n",
        "  def imprimir(self):\r\n",
        "    if self.head is None:\r\n",
        "      return\r\n",
        "    node = self.head\r\n",
        "    print(node.cliente.nombre, end = \" => \")\r\n",
        "    while node.next:\r\n",
        "      node = node.next\r\n",
        "      print(node.cliente.nombre, end = \" => \")\r\n",
        "  \r\n",
        "  def eliminar(self, no_habitacion):\r\n",
        "    node = self.head\r\n",
        "    while node is not None:\r\n",
        "      if node.cliente.no_habitacion == no_habitacion:\r\n",
        "        if node.previous is not None:\r\n",
        "          if node.next:\r\n",
        "            node.previous.next = node.next\r\n",
        "            node.next.previous = node.previous\r\n",
        "          else:\r\n",
        "            node.previous.next = None\r\n",
        "            self.last = node.previous\r\n",
        "        else: \r\n",
        "          self.head = node.next\r\n",
        "          node.next.previous = self.head\r\n",
        "        self.size -= 1\r\n",
        "        return True\r\n",
        "      else:\r\n",
        "        node = node.next\r\n",
        "    return False \r\n"
      ],
      "execution_count": 88,
      "outputs": []
    },
    {
      "cell_type": "code",
      "metadata": {
        "id": "ZJG5OUqpeqPY"
      },
      "source": [
        "c1 = cliente(\"carlos quixtan\", 101) # creo un objeto de la clase cliente \r\n",
        "c2 = cliente(\"marco lopez\", 103)\r\n",
        "c3 = cliente(\"josue armas\", 204)\r\n",
        "c4 = cliente(\"gladys olmos\", 302)"
      ],
      "execution_count": 89,
      "outputs": []
    },
    {
      "cell_type": "markdown",
      "metadata": {
        "id": "K8tfoZhVfB7s"
      },
      "source": [
        "###**inserción**"
      ]
    },
    {
      "cell_type": "code",
      "metadata": {
        "id": "IvKlqurFcZzc"
      },
      "source": [
        "lista_de = linked_list_de()\r\n",
        "lista_de.insertar(c1)\r\n",
        "lista_de.insertar(c2)\r\n",
        "lista_de.insertar(c3)\r\n",
        "lista_de.insertar(c4)\r\n"
      ],
      "execution_count": 90,
      "outputs": []
    },
    {
      "cell_type": "markdown",
      "metadata": {
        "id": "S2y1XBIXfE--"
      },
      "source": [
        "###**imprimir**"
      ]
    },
    {
      "cell_type": "code",
      "metadata": {
        "colab": {
          "base_uri": "https://localhost:8080/"
        },
        "id": "kndHvDiJfJ2E",
        "outputId": "04383ec7-cabe-437e-f93e-8fb85bfaf847"
      },
      "source": [
        "lista_de.imprimir()"
      ],
      "execution_count": 91,
      "outputs": [
        {
          "output_type": "stream",
          "text": [
            "gladys olmos => josue armas => marco lopez => carlos quixtan => "
          ],
          "name": "stdout"
        }
      ]
    },
    {
      "cell_type": "code",
      "metadata": {
        "colab": {
          "base_uri": "https://localhost:8080/"
        },
        "id": "1qXTUeNlmoZc",
        "outputId": "41a5fa7c-7471-4591-fe68-b0054fbfa674"
      },
      "source": [
        "lista_de.eliminar(101)"
      ],
      "execution_count": 92,
      "outputs": [
        {
          "output_type": "execute_result",
          "data": {
            "text/plain": [
              "True"
            ]
          },
          "metadata": {
            "tags": []
          },
          "execution_count": 92
        }
      ]
    },
    {
      "cell_type": "code",
      "metadata": {
        "colab": {
          "base_uri": "https://localhost:8080/"
        },
        "id": "RBtG_4pWnGuU",
        "outputId": "f8c780fd-c554-4e11-b1fd-f6315c71b5c4"
      },
      "source": [
        "lista_de.imprimir()"
      ],
      "execution_count": 93,
      "outputs": [
        {
          "output_type": "stream",
          "text": [
            "gladys olmos => josue armas => marco lopez => "
          ],
          "name": "stdout"
        }
      ]
    },
    {
      "cell_type": "markdown",
      "metadata": {
        "id": "bvf_7971ced8"
      },
      "source": [
        "###**Pilas**"
      ]
    },
    {
      "cell_type": "code",
      "metadata": {
        "id": "8uS-rX8lcfcI"
      },
      "source": [
        "class pila: \r\n",
        "  def __init__ (self):\r\n",
        "    self.pila =[]\r\n",
        "  \r\n",
        "  def apilar(self, cliente):\r\n",
        "    self.pila.append(cliente)\r\n",
        "\r\n",
        "  def devolver_tamaño(self):\r\n",
        "    return len(self.pila)\r\n",
        "\r\n",
        "  def imprimir(self):\r\n",
        "    for elemento in self.pila:\r\n",
        "      print(elemento.nombre, end=\" => \")\r\n",
        "\r\n",
        "  def desapilar(self):\r\n",
        "    if self.pila:\r\n",
        "      self.pila.pop()"
      ],
      "execution_count": 94,
      "outputs": []
    },
    {
      "cell_type": "code",
      "metadata": {
        "id": "KPn_pUxMdjY-"
      },
      "source": [
        "c1 = cliente(\"carlos quixtan\", 101) # creo un objeto de la clase cliente \r\n",
        "c2 = cliente(\"marco lopez\", 103)\r\n",
        "c3 = cliente(\"josue armas\", 204)\r\n",
        "c4 = cliente(\"gladys olmos\", 302)"
      ],
      "execution_count": 95,
      "outputs": []
    },
    {
      "cell_type": "code",
      "metadata": {
        "id": "anW657njdmAr"
      },
      "source": [
        "p = pila()\r\n",
        "p.apilar(c1)\r\n",
        "p.apilar(c2)\r\n",
        "p.apilar(c3)\r\n",
        "p.apilar(c4)\r\n"
      ],
      "execution_count": 96,
      "outputs": []
    },
    {
      "cell_type": "code",
      "metadata": {
        "colab": {
          "base_uri": "https://localhost:8080/"
        },
        "id": "-4PGKbGneLj6",
        "outputId": "3eacd850-9183-432c-91a2-7aafea5cd0df"
      },
      "source": [
        "p.devolver_tamaño()"
      ],
      "execution_count": 97,
      "outputs": [
        {
          "output_type": "execute_result",
          "data": {
            "text/plain": [
              "4"
            ]
          },
          "metadata": {
            "tags": []
          },
          "execution_count": 97
        }
      ]
    },
    {
      "cell_type": "code",
      "metadata": {
        "colab": {
          "base_uri": "https://localhost:8080/"
        },
        "id": "gVNd3fEefVtN",
        "outputId": "d3b367d6-6d8c-441a-a700-7c322f91c727"
      },
      "source": [
        "p.imprimir()"
      ],
      "execution_count": 98,
      "outputs": [
        {
          "output_type": "stream",
          "text": [
            "carlos quixtan => marco lopez => josue armas => gladys olmos => "
          ],
          "name": "stdout"
        }
      ]
    },
    {
      "cell_type": "code",
      "metadata": {
        "id": "2KnsoLrBgZQk"
      },
      "source": [
        "p.desapilar()  # retiro el ultimo elemento de la pila"
      ],
      "execution_count": 99,
      "outputs": []
    },
    {
      "cell_type": "code",
      "metadata": {
        "colab": {
          "base_uri": "https://localhost:8080/"
        },
        "id": "RvhchWuKgfSQ",
        "outputId": "4267eb53-f57c-4e7e-fb3e-1851349b01db"
      },
      "source": [
        "p.imprimir()"
      ],
      "execution_count": 100,
      "outputs": [
        {
          "output_type": "stream",
          "text": [
            "carlos quixtan => marco lopez => josue armas => "
          ],
          "name": "stdout"
        }
      ]
    },
    {
      "cell_type": "markdown",
      "metadata": {
        "id": "binXnihUifIq"
      },
      "source": [
        "###**Colas**"
      ]
    },
    {
      "cell_type": "code",
      "metadata": {
        "id": "Ue8YYn0RiBa7"
      },
      "source": [
        "class Cola:\r\n",
        "  def __init__(self):\r\n",
        "    self.Cola = []\r\n",
        "\r\n",
        "  def encolar(self, cliente):\r\n",
        "    self.Cola.append(cliente)\r\n",
        "\r\n",
        "  def devolver_tamano(self):\r\n",
        "    return len(self.cola)\r\n",
        "\r\n",
        "  def imprimir():\r\n",
        "    for elemento in self.cola:\r\n",
        "      print(elemento.combre, end=\" => \")\r\n",
        "\r\n",
        "  def desencolar(self):\r\n",
        "    if self.cola:\r\n",
        "      self.cola.pop(0)\r\n",
        "\r\n",
        "\r\n",
        "  "
      ],
      "execution_count": 101,
      "outputs": []
    },
    {
      "cell_type": "code",
      "metadata": {
        "id": "mBdgcbbli22C"
      },
      "source": [
        "c1 = cliente(\"carlos quixtan\", 101) # creo un objeto de la clase cliente \r\n",
        "c2 = cliente(\"marco lopez\", 103)\r\n",
        "c3 = cliente(\"josue armas\", 204)\r\n",
        "c4 = cliente(\"gladys olmos\", 302)"
      ],
      "execution_count": 102,
      "outputs": []
    },
    {
      "cell_type": "code",
      "metadata": {
        "id": "GKcxUAe4i7zS"
      },
      "source": [
        "C = Cola()\r\n",
        "C.encolar(c1)\r\n",
        "C.encolar(c2)\r\n",
        "C.encolar(c3)\r\n",
        "C.encolar(c4)"
      ],
      "execution_count": 103,
      "outputs": []
    },
    {
      "cell_type": "code",
      "metadata": {
        "id": "Bc6RFVn9jG_l"
      },
      "source": [
        "C.devolver_tamano()"
      ],
      "execution_count": null,
      "outputs": []
    },
    {
      "cell_type": "code",
      "metadata": {
        "id": "dIQdyRPYkToE"
      },
      "source": [
        "C.imprimir()"
      ],
      "execution_count": null,
      "outputs": []
    },
    {
      "cell_type": "code",
      "metadata": {
        "id": "WwQvhpN1mq0u"
      },
      "source": [
        "C.desencolar()"
      ],
      "execution_count": null,
      "outputs": []
    },
    {
      "cell_type": "code",
      "metadata": {
        "id": "5e54ZFzgmv_w"
      },
      "source": [
        "C.imprimir()"
      ],
      "execution_count": null,
      "outputs": []
    }
  ]
}